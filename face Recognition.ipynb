{
 "cells": [
  {
   "cell_type": "raw",
   "metadata": {},
   "source": [
    "pip install opencv-python"
   ]
  },
  {
   "cell_type": "code",
   "execution_count": 5,
   "metadata": {},
   "outputs": [],
   "source": [
    "# Importing the libraries\n",
    "import cv2\n",
    "import matplotlib.pyplot as plt\n",
    "import numpy as np\n",
    "import pandas as pd\n",
    "import os\n",
    "from tqdm import tqdm"
   ]
  },
  {
   "cell_type": "code",
   "execution_count": 6,
   "metadata": {},
   "outputs": [],
   "source": [
    "# Creating objects to detect the face\n",
    "face_cascade = cv2.CascadeClassifier(cv2.data.haarcascades +'haarcascade_frontalface_default.xml')"
   ]
  },
  {
   "cell_type": "markdown",
   "metadata": {},
   "source": [
    "### Creating a dataset by capturing 300 images of a subject"
   ]
  },
  {
   "cell_type": "raw",
   "metadata": {},
   "source": [
    "cap = cv2.VideoCapture(0)\n",
    "i = 0\n",
    "#fa_img = np.zeros((0,224,224,3),dtype=np.float32)\n",
    "while True:\n",
    "    if i == 300:\n",
    "        break\n",
    "    else:\n",
    "        \n",
    "        #read each frame of the video and convert it to gray\n",
    "        ret, img = cap.read()\n",
    "        gray = cv2.cvtColor(img, cv2.COLOR_BGR2GRAY)\n",
    "\n",
    "        # Find faces in image using classifier\n",
    "        faces = face_cascade.detectMultiScale(gray, 1.1, 5)\n",
    "\n",
    "        # Draw rectangle around the faces\n",
    "        on = []\n",
    "        for (x, y, w, h) in faces:\n",
    "            cv2.rectangle(img, (x, y), (x+w, y+h), (0, 255,255), 2)  \n",
    "            face_img = img[y:y + h, x:x + w]\n",
    "            face_img =  cv2.resize(face_img, (224,224), interpolation = cv2.INTER_AREA)\n",
    "            #fa_img[0,:,:,:] = face_img/223\n",
    "\n",
    "            cv2.imwrite(\"C://Users//DELL//Desktop//ITIC Internship//Meet%i.jpg\"%i, face_img)\n",
    "            font = cv2.FONT_HERSHEY_TRIPLEX\n",
    "            cv2.putText(img,'face',(x,y-2), font, 0.8, (0,255,255)) \n",
    "            i = i+1\n",
    "        #display image\n",
    "        cv2.imshow('img',img) \n",
    "\n",
    "        #if user pressed 'q' break\n",
    "        if cv2.waitKey(1) == ord('q'): # \n",
    "            break;\n",
    "\n",
    "cap.release() #turn off camera \n",
    "cv2.destroyAllWindows() #close all windows"
   ]
  },
  {
   "cell_type": "markdown",
   "metadata": {},
   "source": [
    "### Reading and preprocessing dataset stored in a single directory"
   ]
  },
  {
   "cell_type": "code",
   "execution_count": 7,
   "metadata": {},
   "outputs": [],
   "source": [
    "# Function defined to read image data and resize it to (224,224)\n",
    "def pre_process(file_name, path):\n",
    "    global img \n",
    "    IMG_SHAPE = 224\n",
    "    if file_name.endswith(\".jpg\") or file_name.endswith(\".jpeg\") or file_name.endswith(\".HEIC\"):\n",
    "        img = cv2.imread(pa + \"\\\\\"+file_name)\n",
    "        if img is None:\n",
    "            print('Wrong path:', path)\n",
    "        else:\n",
    "            img = cv2.resize(img, (IMG_SHAPE,IMG_SHAPE), interpolation = cv2.INTER_AREA)\n",
    "    return img"
   ]
  },
  {
   "cell_type": "code",
   "execution_count": 11,
   "metadata": {},
   "outputs": [
    {
     "name": "stdout",
     "output_type": "stream",
     "text": [
      "Wrong path: C:\\Users\\DELL\\Desktop\\ITIC Internship\\dataset\n",
      "Wrong path: C:\\Users\\DELL\\Desktop\\ITIC Internship\\dataset\n",
      "Wrong path: C:\\Users\\DELL\\Desktop\\ITIC Internship\\dataset\n",
      "Wrong path: C:\\Users\\DELL\\Desktop\\ITIC Internship\\dataset\n",
      "Wrong path: C:\\Users\\DELL\\Desktop\\ITIC Internship\\dataset\n",
      "Wrong path: C:\\Users\\DELL\\Desktop\\ITIC Internship\\dataset\n"
     ]
    }
   ],
   "source": [
    "# Reading image dataset\n",
    "images = []\n",
    "labels = []\n",
    "indice = 0\n",
    "boolean = 1\n",
    "pa = 'C:\\\\Users\\\\DELL\\\\Desktop\\\\ITIC Internship\\\\dataset'\n",
    "for file_name in os.listdir(pa):\n",
    "    #print(os.listdir(pa))\n",
    "    if file_name.startswith(\"Meet\"):\n",
    "        label = 0\n",
    "        img = pre_process(file_name, pa)\n",
    "    elif file_name.startswith(\"alex\"):\n",
    "        label = 1\n",
    "        img = pre_process(file_name, pa)\n",
    "    elif file_name.startswith(\"sameeda\"):\n",
    "        label = 2\n",
    "        img = pre_process(file_name, pa)\n",
    "    elif file_name.startswith(\"Neeharika\"):\n",
    "        label = 3\n",
    "        img = pre_process(file_name, pa)\n",
    "\n",
    "    images.append(img)\n",
    "    labels.append(label)\n",
    "    indice = indice + 1"
   ]
  },
  {
   "cell_type": "code",
   "execution_count": 14,
   "metadata": {},
   "outputs": [
    {
     "data": {
      "text/plain": [
       "330"
      ]
     },
     "execution_count": 14,
     "metadata": {},
     "output_type": "execute_result"
    }
   ],
   "source": [
    "len(labels)"
   ]
  },
  {
   "cell_type": "code",
   "execution_count": 26,
   "metadata": {},
   "outputs": [],
   "source": [
    "#!pip install tensorflow"
   ]
  },
  {
   "cell_type": "markdown",
   "metadata": {},
   "source": [
    "### Applying data augmentation technique\n",
    "\n",
    "we make use of data augmentation technique to improve the quality of images and to increase the number of images in the dataset.\n",
    "data augmentation function returns 6 images with slight variation in all of them, thus to bring more versatality to the dataset."
   ]
  },
  {
   "cell_type": "code",
   "execution_count": 15,
   "metadata": {},
   "outputs": [],
   "source": [
    "from keras.preprocessing.image import ImageDataGenerator\n",
    "from keras.preprocessing.image import img_to_array\n",
    "from numpy import expand_dims\n",
    "def img_augment(img):\n",
    "    img_aug = []\n",
    "    datagen = ImageDataGenerator(horizontal_flip=True, rotation_range=45, \n",
    "                                 brightness_range=[0.2,1.5])\n",
    "    data = img_to_array(img)\n",
    "    # expand dimension to one sample\n",
    "    samples = expand_dims(data, 0)\n",
    "    # prepare iterator\n",
    "    it = datagen.flow(samples, batch_size=1)\n",
    "    # generate samples and plot\n",
    "    for i in range(5):\n",
    "        batch = it.next()\n",
    "        # convert to unsigned integers for viewing\n",
    "        image = batch[0].astype('uint8')\n",
    "        img_aug.append(image)\n",
    "    img_aug.append(img)\n",
    "    return img_aug"
   ]
  },
  {
   "cell_type": "code",
   "execution_count": 17,
   "metadata": {},
   "outputs": [
    {
     "name": "stderr",
     "output_type": "stream",
     "text": [
      "\n",
      "0it [00:00, ?it/s]\u001b[A\n",
      "2it [00:00, 15.21it/s]\u001b[A\n",
      "4it [00:00, 15.66it/s]\u001b[A\n",
      "6it [00:00, 15.53it/s]\u001b[A\n",
      "8it [00:00, 15.91it/s]\u001b[A\n",
      "10it [00:00, 15.07it/s]\u001b[A\n",
      "12it [00:00, 15.60it/s]\u001b[A\n",
      "14it [00:00, 15.50it/s]\u001b[A\n",
      "16it [00:01, 14.73it/s]\u001b[A\n",
      "18it [00:01, 14.83it/s]\u001b[A\n",
      "20it [00:01, 14.84it/s]\u001b[A\n",
      "22it [00:01, 14.97it/s]\u001b[A\n",
      "24it [00:01, 14.96it/s]\u001b[A\n",
      "26it [00:01, 15.51it/s]\u001b[A\n",
      "28it [00:01, 15.42it/s]\u001b[A\n",
      "30it [00:01, 15.81it/s]\u001b[A\n",
      "32it [00:02, 15.08it/s]\u001b[A\n",
      "34it [00:02, 14.90it/s]\u001b[A\n",
      "36it [00:02, 15.00it/s]\u001b[A\n",
      "38it [00:02, 13.94it/s]\u001b[A\n",
      "40it [00:02, 14.20it/s]\u001b[A\n",
      "42it [00:02, 14.52it/s]\u001b[A\n",
      "44it [00:02, 15.20it/s]\u001b[A\n",
      "46it [00:03, 15.22it/s]\u001b[A\n",
      "48it [00:03, 15.11it/s]\u001b[A\n",
      "50it [00:03, 15.12it/s]\u001b[A\n",
      "52it [00:03, 15.61it/s]\u001b[A\n",
      "54it [00:03, 15.49it/s]\u001b[A\n",
      "56it [00:03, 15.31it/s]\u001b[A\n",
      "58it [00:03, 15.76it/s]\u001b[A\n",
      "60it [00:03, 15.62it/s]\u001b[A\n",
      "62it [00:04, 15.96it/s]\u001b[A\n",
      "64it [00:04, 15.63it/s]\u001b[A\n",
      "66it [00:04, 14.77it/s]\u001b[A\n",
      "68it [00:04, 14.93it/s]\u001b[A\n",
      "70it [00:04, 14.84it/s]\u001b[A\n",
      "72it [00:04, 14.47it/s]\u001b[A\n",
      "74it [00:04, 14.69it/s]\u001b[A\n",
      "76it [00:05, 14.82it/s]\u001b[A\n",
      "78it [00:05, 15.37it/s]\u001b[A\n",
      "80it [00:05, 14.66it/s]\u001b[A\n",
      "82it [00:05, 14.88it/s]\u001b[A\n",
      "84it [00:05, 15.42it/s]\u001b[A\n",
      "86it [00:05, 15.37it/s]\u001b[A\n",
      "88it [00:05, 15.81it/s]\u001b[A\n",
      "90it [00:05, 15.53it/s]\u001b[A\n",
      "92it [00:06, 15.45it/s]\u001b[A\n",
      "94it [00:06, 15.28it/s]\u001b[A\n",
      "96it [00:06, 15.73it/s]\u001b[A\n",
      "98it [00:06, 14.88it/s]\u001b[A\n",
      "100it [00:06, 14.21it/s]\u001b[A\n",
      "102it [00:06, 14.14it/s]\u001b[A\n",
      "104it [00:06, 13.96it/s]\u001b[A\n",
      "106it [00:07, 14.27it/s]\u001b[A\n",
      "108it [00:07, 14.28it/s]\u001b[A\n",
      "110it [00:07, 13.80it/s]\u001b[A\n",
      "112it [00:07, 14.45it/s]\u001b[A\n",
      "114it [00:07, 14.17it/s]\u001b[A\n",
      "116it [00:07, 14.43it/s]\u001b[A\n",
      "118it [00:07, 14.04it/s]\u001b[A\n",
      "120it [00:08, 14.36it/s]\u001b[A\n",
      "122it [00:08, 14.56it/s]\u001b[A\n",
      "124it [00:08, 14.69it/s]\u001b[A\n",
      "126it [00:08, 14.29it/s]\u001b[A\n",
      "128it [00:08, 14.41it/s]\u001b[A\n",
      "130it [00:08, 14.64it/s]\u001b[A\n",
      "132it [00:08, 14.75it/s]\u001b[A\n",
      "134it [00:08, 14.33it/s]\u001b[A\n",
      "136it [00:09, 14.45it/s]\u001b[A\n",
      "138it [00:09, 14.62it/s]\u001b[A\n",
      "140it [00:09, 13.82it/s]\u001b[A\n",
      "142it [00:09, 13.64it/s]\u001b[A\n",
      "144it [00:09, 13.93it/s]\u001b[A\n",
      "146it [00:09, 14.26it/s]\u001b[A\n",
      "148it [00:09, 14.52it/s]\u001b[A\n",
      "150it [00:10, 14.66it/s]\u001b[A\n",
      "152it [00:10, 14.27it/s]\u001b[A\n",
      "154it [00:10, 14.37it/s]\u001b[A\n",
      "156it [00:10, 14.58it/s]\u001b[A\n",
      "158it [00:10, 14.18it/s]\u001b[A\n",
      "160it [00:10, 14.94it/s]\u001b[A\n",
      "162it [00:10, 14.94it/s]\u001b[A\n",
      "164it [00:11, 14.96it/s]\u001b[A\n",
      "166it [00:11, 15.00it/s]\u001b[A\n",
      "168it [00:11, 15.08it/s]\u001b[A\n",
      "170it [00:11, 14.28it/s]\u001b[A\n",
      "172it [00:11, 13.65it/s]\u001b[A\n",
      "174it [00:11, 14.57it/s]\u001b[A\n",
      "176it [00:11, 14.75it/s]\u001b[A\n",
      "178it [00:12, 14.64it/s]\u001b[A\n",
      "180it [00:12, 15.02it/s]\u001b[A\n",
      "182it [00:12, 15.45it/s]\u001b[A\n",
      "184it [00:12, 14.75it/s]\u001b[A\n",
      "186it [00:12, 14.86it/s]\u001b[A\n",
      "188it [00:12, 14.89it/s]\u001b[A\n",
      "190it [00:12, 14.93it/s]\u001b[A\n",
      "192it [00:12, 14.22it/s]\u001b[A\n",
      "194it [00:13, 13.66it/s]\u001b[A\n",
      "196it [00:13, 14.06it/s]\u001b[A\n",
      "198it [00:13, 13.87it/s]\u001b[A\n",
      "200it [00:13, 13.59it/s]\u001b[A\n",
      "202it [00:13, 13.61it/s]\u001b[A\n",
      "204it [00:13, 13.69it/s]\u001b[A\n",
      "206it [00:14, 13.73it/s]\u001b[A\n",
      "208it [00:14, 13.79it/s]\u001b[A\n",
      "210it [00:14, 13.61it/s]\u001b[A\n",
      "212it [00:14, 13.95it/s]\u001b[A\n",
      "214it [00:14, 14.29it/s]\u001b[A\n",
      "216it [00:14, 14.52it/s]\u001b[A\n",
      "218it [00:14, 14.11it/s]\u001b[A\n",
      "220it [00:14, 14.40it/s]\u001b[A\n",
      "222it [00:15, 13.80it/s]\u001b[A\n",
      "224it [00:15, 13.81it/s]\u001b[A\n",
      "226it [00:15, 14.21it/s]\u001b[A\n",
      "228it [00:15, 13.80it/s]\u001b[A\n",
      "230it [00:15, 13.56it/s]\u001b[A\n",
      "232it [00:15, 13.67it/s]\u001b[A\n",
      "234it [00:16, 13.68it/s]\u001b[A\n",
      "236it [00:16, 13.87it/s]\u001b[A\n",
      "238it [00:16, 13.83it/s]\u001b[A\n",
      "240it [00:16, 13.48it/s]\u001b[A\n",
      "242it [00:16, 13.57it/s]\u001b[A\n",
      "244it [00:16, 13.33it/s]\u001b[A\n",
      "246it [00:16, 13.65it/s]\u001b[A\n",
      "248it [00:17, 13.96it/s]\u001b[A\n",
      "250it [00:17, 14.26it/s]\u001b[A\n",
      "252it [00:17, 14.48it/s]\u001b[A\n",
      "254it [00:17, 14.68it/s]\u001b[A\n",
      "256it [00:17, 14.25it/s]\u001b[A\n",
      "258it [00:17, 14.41it/s]\u001b[A\n",
      "260it [00:17, 14.08it/s]\u001b[A\n",
      "262it [00:17, 14.86it/s]\u001b[A\n",
      "264it [00:18, 14.94it/s]\u001b[A\n",
      "266it [00:18, 14.97it/s]\u001b[A\n",
      "268it [00:18, 15.51it/s]\u001b[A\n",
      "270it [00:18, 15.35it/s]\u001b[A\n",
      "272it [00:18, 15.26it/s]\u001b[A\n",
      "274it [00:18, 15.48it/s]\u001b[A\n",
      "276it [00:18, 13.90it/s]\u001b[A\n",
      "278it [00:19, 12.17it/s]\u001b[A\n",
      "280it [00:19, 11.78it/s]\u001b[A\n",
      "282it [00:19, 10.69it/s]\u001b[A\n",
      "284it [00:19,  9.72it/s]\u001b[A\n",
      "286it [00:20,  8.75it/s]\u001b[A\n",
      "287it [00:20,  8.85it/s]\u001b[A\n",
      "289it [00:20,  9.88it/s]\u001b[A\n",
      "291it [00:20, 10.67it/s]\u001b[A\n",
      "293it [00:20, 11.44it/s]\u001b[A\n",
      "295it [00:20, 11.91it/s]\u001b[A\n",
      "297it [00:20, 12.65it/s]\u001b[A\n",
      "299it [00:21, 11.44it/s]\u001b[A\n",
      "301it [00:21, 10.70it/s]\u001b[A\n",
      "303it [00:21,  9.76it/s]\u001b[A\n",
      "305it [00:21,  9.14it/s]\u001b[A\n",
      "306it [00:22,  8.16it/s]\u001b[A\n",
      "307it [00:22,  7.60it/s]\u001b[A\n",
      "308it [00:22,  7.85it/s]\u001b[A\n",
      "309it [00:22,  7.80it/s]\u001b[A\n",
      "310it [00:22,  7.69it/s]\u001b[A\n",
      "311it [00:22,  7.64it/s]\u001b[A\n",
      "312it [00:22,  7.05it/s]\u001b[A\n",
      "313it [00:23,  6.94it/s]\u001b[A\n",
      "314it [00:23,  6.42it/s]\u001b[A\n",
      "315it [00:23,  6.50it/s]\u001b[A\n",
      "316it [00:23,  6.37it/s]\u001b[A\n",
      "317it [00:23,  6.08it/s]\u001b[A\n",
      "318it [00:23,  6.39it/s]\u001b[A\n",
      "319it [00:23,  6.46it/s]\u001b[A\n",
      "326it [00:24,  8.78it/s]\u001b[A\n",
      "330it [00:24, 13.43it/s]\u001b[A\n"
     ]
    }
   ],
   "source": [
    "# Calling the data augmentation function\n",
    "img = []\n",
    "X = []\n",
    "y = []\n",
    "for j,image in tqdm(enumerate(images)):\n",
    "    try:\n",
    "        img = img_augment(image)\n",
    "        for i in img:\n",
    "            X.append(i)\n",
    "            y.append(labels[j])\n",
    "    except:\n",
    "        continue"
   ]
  },
  {
   "cell_type": "code",
   "execution_count": 18,
   "metadata": {},
   "outputs": [
    {
     "data": {
      "text/plain": [
       "1944"
      ]
     },
     "execution_count": 18,
     "metadata": {},
     "output_type": "execute_result"
    }
   ],
   "source": [
    "len(X)"
   ]
  },
  {
   "cell_type": "code",
   "execution_count": 19,
   "metadata": {},
   "outputs": [
    {
     "data": {
      "text/plain": [
       "1944"
      ]
     },
     "execution_count": 19,
     "metadata": {},
     "output_type": "execute_result"
    }
   ],
   "source": [
    "len(y)"
   ]
  },
  {
   "cell_type": "code",
   "execution_count": 23,
   "metadata": {},
   "outputs": [
    {
     "data": {
      "text/plain": [
       "<matplotlib.image.AxesImage at 0x1b8c2437c08>"
      ]
     },
     "execution_count": 23,
     "metadata": {},
     "output_type": "execute_result"
    },
    {
     "data": {
      "image/png": "[encoded data removed]",
      "text/plain": [
       "<Figure size 432x288 with 1 Axes>"
      ]
     },
     "metadata": {
      "needs_background": "light"
     },
     "output_type": "display_data"
    }
   ],
   "source": [
    "plt.imshow(X[1900])"
   ]
  },
  {
   "cell_type": "code",
   "execution_count": 22,
   "metadata": {},
   "outputs": [
    {
     "data": {
      "text/plain": [
       "0"
      ]
     },
     "execution_count": 22,
     "metadata": {},
     "output_type": "execute_result"
    }
   ],
   "source": [
    "y[1900]"
   ]
  },
  {
   "cell_type": "code",
   "execution_count": 24,
   "metadata": {},
   "outputs": [],
   "source": [
    "# Reshaping images\n",
    "IMG_SHAPE = 224\n",
    "n=len(X)\n",
    "\n",
    "data_images = np.zeros((n,IMG_SHAPE,IMG_SHAPE,3),dtype=np.float32)\n",
    "data_labels = np.zeros((n),dtype=np.float32)\n",
    "\n",
    "i = 0\n",
    "for item in range(len(X)):\n",
    "    data_images[i,:,:,:] = X[item]/223\n",
    "    data_labels[i] = y[item]\n",
    "    i = i+1"
   ]
  },
  {
   "cell_type": "markdown",
   "metadata": {},
   "source": [
    "### Splitting the dataset for training and testing"
   ]
  },
  {
   "cell_type": "code",
   "execution_count": 25,
   "metadata": {},
   "outputs": [],
   "source": [
    "from sklearn.model_selection import train_test_split\n",
    "X_train,X_test, y_train, y_test = train_test_split(data_images, data_labels, test_size=0.1, random_state=42)"
   ]
  },
  {
   "cell_type": "markdown",
   "metadata": {},
   "source": [
    "### Creating a model using deep neural networks"
   ]
  },
  {
   "cell_type": "code",
   "execution_count": 27,
   "metadata": {},
   "outputs": [],
   "source": [
    "import tensorflow as tf\n",
    "from tensorflow import keras\n",
    "from tensorflow.keras import models, layers\n",
    "from tensorflow.keras.layers import Dense, Flatten, BatchNormalization, Activation, UpSampling2D\n",
    "from keras.layers.convolutional import Conv2D, MaxPooling2D\n",
    "from keras.constraints import maxnorm\n",
    "from keras.utils import np_utils\n",
    "#from keras.utils import to_categorical"
   ]
  },
  {
   "cell_type": "code",
   "execution_count": 28,
   "metadata": {},
   "outputs": [
    {
     "name": "stdout",
     "output_type": "stream",
     "text": [
      "Model: \"sequential\"\n",
      "_________________________________________________________________\n",
      "Layer (type)                 Output Shape              Param #   \n",
      "=================================================================\n",
      "conv2d (Conv2D)              (None, 222, 222, 32)      896       \n",
      "_________________________________________________________________\n",
      "max_pooling2d (MaxPooling2D) (None, 111, 111, 32)      0         \n",
      "_________________________________________________________________\n",
      "conv2d_1 (Conv2D)            (None, 109, 109, 64)      18496     \n",
      "_________________________________________________________________\n",
      "max_pooling2d_1 (MaxPooling2 (None, 54, 54, 64)        0         \n",
      "_________________________________________________________________\n",
      "conv2d_2 (Conv2D)            (None, 52, 52, 128)       73856     \n",
      "_________________________________________________________________\n",
      "max_pooling2d_2 (MaxPooling2 (None, 26, 26, 128)       0         \n",
      "_________________________________________________________________\n",
      "conv2d_3 (Conv2D)            (None, 24, 24, 64)        73792     \n",
      "_________________________________________________________________\n",
      "max_pooling2d_3 (MaxPooling2 (None, 12, 12, 64)        0         \n",
      "_________________________________________________________________\n",
      "conv2d_4 (Conv2D)            (None, 10, 10, 32)        18464     \n",
      "_________________________________________________________________\n",
      "max_pooling2d_4 (MaxPooling2 (None, 5, 5, 32)          0         \n",
      "_________________________________________________________________\n",
      "flatten (Flatten)            (None, 800)               0         \n",
      "_________________________________________________________________\n",
      "dense (Dense)                (None, 64)                51264     \n",
      "_________________________________________________________________\n",
      "dense_1 (Dense)              (None, 5)                 325       \n",
      "=================================================================\n",
      "Total params: 237,093\n",
      "Trainable params: 237,093\n",
      "Non-trainable params: 0\n",
      "_________________________________________________________________\n"
     ]
    }
   ],
   "source": [
    "model = models.Sequential()\n",
    "model.add(layers.Conv2D(32, (3, 3), activation='relu', input_shape=(224, 224, 3)))\n",
    "model.add(layers.MaxPooling2D((2, 2)))\n",
    "model.add(layers.Conv2D(64, (3, 3), activation='relu'))\n",
    "model.add(layers.MaxPooling2D((2,2)))\n",
    "model.add(layers.Conv2D(128, (3, 3), activation='relu'))\n",
    "model.add(layers.MaxPooling2D((2,2)))\n",
    "model.add(layers.Conv2D(64, (3, 3), activation='relu', input_shape=(224, 224, 3)))\n",
    "model.add(layers.MaxPooling2D((2, 2)))\n",
    "model.add(layers.Conv2D(32, (3, 3), activation='relu'))\n",
    "model.add(layers.MaxPooling2D((2,2)))\n",
    "model.add(layers.Flatten())\n",
    "model.add(layers.Dense(64, activation='relu'))\n",
    "model.add(layers.Dense(5))\n",
    "model.summary()"
   ]
  },
  {
   "cell_type": "code",
   "execution_count": 29,
   "metadata": {},
   "outputs": [
    {
     "name": "stderr",
     "output_type": "stream",
     "text": [
      "C:\\Users\\DELL\\anaconda3\\lib\\site-packages\\keras\\optimizer_v2\\optimizer_v2.py:356: UserWarning: The `lr` argument is deprecated, use `learning_rate` instead.\n",
      "  \"The `lr` argument is deprecated, use `learning_rate` instead.\")\n"
     ]
    }
   ],
   "source": [
    "model.compile(optimizer = keras.optimizers.Adam(lr=0.001),\n",
    "              loss=tf.keras.losses.SparseCategoricalCrossentropy(from_logits=True),\n",
    "              metrics=['accuracy'])"
   ]
  },
  {
   "cell_type": "code",
   "execution_count": 30,
   "metadata": {},
   "outputs": [
    {
     "name": "stdout",
     "output_type": "stream",
     "text": [
      "Epoch 1/10\n",
      "280/280 [==============================] - 94s 333ms/step - loss: 0.1971 - accuracy: 0.9543 - val_loss: 0.2746 - val_accuracy: 0.9657\n",
      "Epoch 2/10\n",
      "280/280 [==============================] - 93s 332ms/step - loss: 0.0907 - accuracy: 0.9871 - val_loss: 0.0371 - val_accuracy: 1.0000\n",
      "Epoch 3/10\n",
      "280/280 [==============================] - 89s 316ms/step - loss: 0.0758 - accuracy: 0.9900 - val_loss: 0.0950 - val_accuracy: 0.9600\n",
      "Epoch 4/10\n",
      "280/280 [==============================] - 98s 352ms/step - loss: 0.0663 - accuracy: 0.9907 - val_loss: 0.0201 - val_accuracy: 1.0000\n",
      "Epoch 5/10\n",
      "280/280 [==============================] - 95s 339ms/step - loss: 0.0388 - accuracy: 0.9943 - val_loss: 3.2738e-04 - val_accuracy: 1.0000\n",
      "Epoch 6/10\n",
      "280/280 [==============================] - 91s 323ms/step - loss: 0.0506 - accuracy: 0.9893 - val_loss: 0.0410 - val_accuracy: 0.9800\n",
      "Epoch 7/10\n",
      "280/280 [==============================] - 85s 305ms/step - loss: 0.0389 - accuracy: 0.9886 - val_loss: 5.3984e-04 - val_accuracy: 1.0000\n",
      "Epoch 8/10\n",
      "280/280 [==============================] - 89s 318ms/step - loss: 0.0252 - accuracy: 0.9964 - val_loss: 2.7603e-04 - val_accuracy: 1.0000\n",
      "Epoch 9/10\n",
      "280/280 [==============================] - 88s 313ms/step - loss: 0.0205 - accuracy: 0.9957 - val_loss: 0.0013 - val_accuracy: 1.0000\n",
      "Epoch 10/10\n",
      "280/280 [==============================] - 89s 317ms/step - loss: 0.0165 - accuracy: 0.9964 - val_loss: 0.0012 - val_accuracy: 1.0000\n"
     ]
    },
    {
     "data": {
      "text/plain": [
       "<keras.callbacks.History at 0x1b8ca3b2308>"
      ]
     },
     "execution_count": 30,
     "metadata": {},
     "output_type": "execute_result"
    }
   ],
   "source": [
    "model.fit(X_train, y_train, batch_size=5, epochs=10, validation_split=0.20)"
   ]
  },
  {
   "cell_type": "markdown",
   "metadata": {},
   "source": [
    "### Saving the created model for making predictions"
   ]
  },
  {
   "cell_type": "code",
   "execution_count": 34,
   "metadata": {},
   "outputs": [],
   "source": [
    "model.save(\"C:\\\\Users\\\\DELL\\\\Desktop\\\\ITIC Internship\\\\Models\\\\model.h5\")"
   ]
  },
  {
   "cell_type": "code",
   "execution_count": 35,
   "metadata": {},
   "outputs": [],
   "source": [
    "y_pred = model.predict(X_test, batch_size = 5 )\n",
    "y_pred = list(y_pred)"
   ]
  },
  {
   "cell_type": "code",
   "execution_count": 36,
   "metadata": {},
   "outputs": [],
   "source": [
    "y_output = []\n",
    "for i in range(len(y_pred)):\n",
    "    max_val = max(y_pred[i])\n",
    "    max_val_ind = list(y_pred[i]).index(max_val)\n",
    "    y_output.append(max_val_ind)"
   ]
  },
  {
   "cell_type": "code",
   "execution_count": null,
   "metadata": {},
   "outputs": [],
   "source": []
  },
  {
   "cell_type": "code",
   "execution_count": 38,
   "metadata": {},
   "outputs": [
    {
     "data": {
      "text/plain": [
       "<Figure size 432x288 with 0 Axes>"
      ]
     },
     "metadata": {},
     "output_type": "display_data"
    },
    {
     "data": {
      "image/png": "[encoded data removed]",
      "text/plain": [
       "<Figure size 720x720 with 2 Axes>"
      ]
     },
     "metadata": {
      "needs_background": "light"
     },
     "output_type": "display_data"
    }
   ],
   "source": [
    "from sklearn.metrics import confusion_matrix\n",
    "import itertools\n",
    "class_names = ['Meet', 'alex', 'sameeda', 'Neeharika']\n",
    "def plot_confusion_matrix(cm, classes, title='Confusion matrix', cmap=plt.cm.Blues):\n",
    "    cm = cm.astype('float') / cm.sum(axis=1)[:, np.newaxis]\n",
    "    plt.figure(figsize=(10,10))\n",
    "    plt.imshow(cm, interpolation='nearest', cmap=cmap)\n",
    "    plt.title(title)\n",
    "    plt.colorbar()\n",
    "    tick_marks = np.arange(len(classes))\n",
    "    plt.xticks(tick_marks, classes, rotation=45)\n",
    "    plt.yticks(tick_marks, classes)\n",
    "\n",
    "    fmt = '.2f'\n",
    "    thresh = cm.max() / 2.\n",
    "    for i, j in itertools.product(range(cm.shape[0]), range(cm.shape[1])):\n",
    "        plt.text(j, i, format(cm[i, j], fmt),\n",
    "                 horizontalalignment=\"center\",\n",
    "                 color=\"white\" if cm[i, j] > thresh else \"black\")\n",
    "\n",
    "    plt.ylabel('True label')\n",
    "    plt.xlabel('Predicted label')\n",
    "    plt.tight_layout()\n",
    "    \n",
    "# compute confusion matrix\n",
    "cnf_matrix = confusion_matrix(y_test, y_output)\n",
    "np.set_printoptions(precision=2)\n",
    "\n",
    "# plot normalized confusion matrix\n",
    "plt.figure()\n",
    "plot_confusion_matrix(cnf_matrix, classes=class_names, title='Normalized confusion matrix')\n",
    "plt.show()"
   ]
  },
  {
   "cell_type": "code",
   "execution_count": null,
   "metadata": {},
   "outputs": [],
   "source": []
  }
 ],
 "metadata": {
  "kernelspec": {
   "display_name": "Python 3",
   "language": "python",
   "name": "python3"
  },
  "language_info": {
   "codemirror_mode": {
    "name": "ipython",
    "version": 3
   },
   "file_extension": ".py",
   "mimetype": "text/x-python",
   "name": "python",
   "nbconvert_exporter": "python",
   "pygments_lexer": "ipython3",
   "version": "3.7.6"
  }
 },
 "nbformat": 4,
 "nbformat_minor": 4
}
