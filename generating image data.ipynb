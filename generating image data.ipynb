{
 "cells": [
  {
   "cell_type": "code",
   "execution_count": 1,
   "metadata": {},
   "outputs": [],
   "source": [
    "# Importing the libraries\n",
    "import cv2\n",
    "import matplotlib.pyplot as plt\n",
    "import numpy as np\n",
    "import pandas as pd\n",
    "import os\n",
    "from tqdm import tqdm"
   ]
  },
  {
   "cell_type": "code",
   "execution_count": 2,
   "metadata": {},
   "outputs": [],
   "source": [
    "# Creating objects to detect the face\n",
    "face_cascade = cv2.CascadeClassifier(cv2.data.haarcascades +'haarcascade_frontalface_default.xml')"
   ]
  },
  {
   "cell_type": "code",
   "execution_count": null,
   "metadata": {},
   "outputs": [],
   "source": [
    "cap = cv2.VideoCapture(0)\n",
    "i = 0\n",
    "#fa_img = np.zeros((0,224,224,3),dtype=np.float32)\n",
    "while True:\n",
    "    if i == 300:\n",
    "        break\n",
    "    else:\n",
    "        \n",
    "        #read each frame of the video and convert it to gray\n",
    "        ret, img = cap.read()\n",
    "        gray = cv2.cvtColor(img, cv2.COLOR_BGR2GRAY)\n",
    "\n",
    "        # Find faces in image using classifier\n",
    "        faces = face_cascade.detectMultiScale(gray, 1.1, 5)\n",
    "\n",
    "        # Draw rectangle around the faces\n",
    "        on = []\n",
    "        for (x, y, w, h) in faces:\n",
    "            cv2.rectangle(img, (x, y), (x+w, y+h), (0, 255,255), 2)  \n",
    "            face_img = img[y:y + h, x:x + w]\n",
    "            face_img =  cv2.resize(face_img, (224,224), interpolation = cv2.INTER_AREA)\n",
    "            #fa_img[0,:,:,:] = face_img/223\n",
    "\n",
    "            cv2.imwrite(\"C://Users//DELL//Desktop//ITIC Internship//Meet%i.jpg\"%i, face_img)\n",
    "            font = cv2.FONT_HERSHEY_TRIPLEX\n",
    "            cv2.putText(img,'face',(x,y-2), font, 0.8, (0,255,255)) \n",
    "            i = i+1\n",
    "        #display image\n",
    "        cv2.imshow('img',img) \n",
    "\n",
    "        #if user pressed 'q' break\n",
    "        if cv2.waitKey(1) == ord('q'): # \n",
    "            break;\n",
    "\n",
    "cap.release() #turn off camera \n",
    "cv2.destroyAllWindows() #close all windows"
   ]
  }
 ],
 "metadata": {
  "kernelspec": {
   "display_name": "Python 3",
   "language": "python",
   "name": "python3"
  },
  "language_info": {
   "codemirror_mode": {
    "name": "ipython",
    "version": 3
   },
   "file_extension": ".py",
   "mimetype": "text/x-python",
   "name": "python",
   "nbconvert_exporter": "python",
   "pygments_lexer": "ipython3",
   "version": "3.7.6"
  }
 },
 "nbformat": 4,
 "nbformat_minor": 4
}
